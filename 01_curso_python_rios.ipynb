{
 "cells": [
  {
   "cell_type": "markdown",
   "id": "ec097719",
   "metadata": {},
   "source": [
    "# Variables en Python, ejemplo con datos de Rios de la ciudad de Cali/Colombia."
   ]
  },
  {
   "cell_type": "markdown",
   "id": "9e2a3720",
   "metadata": {},
   "source": [
    "En Python, una variable es un nombre que se utiliza para referirse a un valor que se ha asignado a ella. Puede ser una letra, una palabra o una combinación de ambos y se utiliza para almacenar y manipular valores en el programa. Las variables se utilizan para hacer que el código sea más legible y para poder modificar y reutilizar valores en diferentes partes del programa."
   ]
  },
  {
   "cell_type": "code",
   "execution_count": 14,
   "id": "8d13fe15",
   "metadata": {},
   "outputs": [],
   "source": [
    "rio_pance = 60 # metros cúbicos por segundo\n",
    "rio_cauca = 1000 # metros cúbicos por segundo\n",
    "rio_lili = 20 # metros cúbicos por segundo (valor aproximado)\n",
    "rio_cañaveralejo = 2 # metros cúbicos por segundo (valor aproximado)\n"
   ]
  },
  {
   "cell_type": "markdown",
   "id": "8e76af61",
   "metadata": {},
   "source": [
    "# Lista de rios"
   ]
  },
  {
   "cell_type": "markdown",
   "id": "9509f80f",
   "metadata": {},
   "source": [
    "Una lista en Python es una estructura de datos que permite almacenar una colección ordenada de elementos, que pueden ser de diferentes tipos de datos, como números, cadenas de texto, booleanos, objetos, etc.\n",
    "\n",
    "Las listas son estructuras de datos muy versátiles y flexibles en Python. Se pueden agregar, eliminar y modificar elementos en una lista de forma dinámica. También es posible acceder a elementos individuales de una lista utilizando un índice, que comienza en cero para el primer elemento de la lista."
   ]
  },
  {
   "cell_type": "code",
   "execution_count": 15,
   "id": "9ee42c04",
   "metadata": {},
   "outputs": [],
   "source": [
    "rios_cali = ['Cauca', 'Pance', 'Lili', 'Meléndez', 'Cañaveralejo']"
   ]
  },
  {
   "cell_type": "code",
   "execution_count": 16,
   "id": "a8da20e9",
   "metadata": {},
   "outputs": [
    {
     "name": "stdout",
     "output_type": "stream",
     "text": [
      "Cauca\n",
      "Lili\n"
     ]
    }
   ],
   "source": [
    "print(rios_cali[0]) # Imprime 'Cauca'\n",
    "print(rios_cali[2]) # Imprime 'Lili'"
   ]
  },
  {
   "cell_type": "code",
   "execution_count": 17,
   "id": "d9ecca6c",
   "metadata": {},
   "outputs": [
    {
     "name": "stdout",
     "output_type": "stream",
     "text": [
      "Cauca\n",
      "Pance\n",
      "Lili\n",
      "Meléndez\n",
      "Cañaveralejo\n"
     ]
    }
   ],
   "source": [
    "for rio in rios_cali:\n",
    "    print(rio)"
   ]
  },
  {
   "cell_type": "markdown",
   "id": "8322acac",
   "metadata": {},
   "source": [
    "# Diccionario de rios."
   ]
  },
  {
   "cell_type": "markdown",
   "id": "a1bc508c",
   "metadata": {},
   "source": [
    "Se pueden unir todas las variables de los ríos creadas hasta el momento en un diccionario en Python para facilitar su manejo. Por ejemplo:"
   ]
  },
  {
   "cell_type": "code",
   "execution_count": 18,
   "id": "490d5f70",
   "metadata": {},
   "outputs": [],
   "source": [
    "rios = {\n",
    "    \"Cauca\": 1000,\n",
    "    \"Pance\": 60,\n",
    "    \"Lili\": 20,\n",
    "    \"Meléndez\": 10,\n",
    "    \"Cañaveralejo\": 2\n",
    "}"
   ]
  },
  {
   "cell_type": "code",
   "execution_count": 19,
   "id": "ef354b49",
   "metadata": {},
   "outputs": [
    {
     "name": "stdout",
     "output_type": "stream",
     "text": [
      "60\n",
      "1000\n",
      "10\n"
     ]
    }
   ],
   "source": [
    "print(rios[\"Pance\"]) # Imprime 60\n",
    "print(rios[\"Cauca\"]) # Imprime 1000\n",
    "print(rios[\"Meléndez\"]) "
   ]
  }
 ],
 "metadata": {
  "kernelspec": {
   "display_name": "Python 3 (ipykernel)",
   "language": "python",
   "name": "python3"
  },
  "language_info": {
   "codemirror_mode": {
    "name": "ipython",
    "version": 3
   },
   "file_extension": ".py",
   "mimetype": "text/x-python",
   "name": "python",
   "nbconvert_exporter": "python",
   "pygments_lexer": "ipython3",
   "version": "3.9.6"
  }
 },
 "nbformat": 4,
 "nbformat_minor": 5
}
